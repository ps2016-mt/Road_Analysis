{
 "cells": [
  {
   "cell_type": "markdown",
   "metadata": {},
   "source": [
    "# Model Training & Evaluation"
   ]
  },
  {
   "cell_type": "markdown",
   "metadata": {},
   "source": [
    "## Importing key functions"
   ]
  },
  {
   "cell_type": "code",
   "execution_count": null,
   "metadata": {},
   "outputs": [],
   "source": [
    "from scripts import (\n",
    "    load_and_split_data, \n",
    "    build_glm_pipeline,\n",
    "    tune_glm_pipeline,\n",
    "    build_lgbm_pipeline,\n",
    "    tune_lgbm_pipeline,\n",
    "    pipe_preprocessing,\n",
    "    evaluate_model,\n",
    "    plot_predicted_vs_actual_bar,\n",
    "    feature_analysis)"
   ]
  },
  {
   "cell_type": "markdown",
   "metadata": {},
   "source": [
    "## Initial stage (definitions and pipeline pre-processing)"
   ]
  },
  {
   "cell_type": "code",
   "execution_count": null,
   "metadata": {},
   "outputs": [],
   "source": [
    "# Define features\n",
    "numerical_features = [\"Speed_limit\", \"Number_of_Casualties\", \"Number_of_Vehicles\"]\n",
    "categorical_features = [\n",
    "        \"Did_Police_Officer_Attend_Scene_of_Accident\",\n",
    "        \"Junction_Control\",\n",
    "        \"Junction_Detail\",\n",
    "        \"Light_Conditions\",\n",
    "        \"Pedestrian_Crossing-Human_Control\",\n",
    "        \"Pedestrian_Crossing-Physical_Facilities\",\n",
    "        \"Road_Type\",\n",
    "        \"Urban_or_Rural_Area\",\n",
    "        \"Weather_Conditions\",\n",
    "        \"Road_Surface_Conditions\",\n",
    "        \"Month\",\n",
    "        \"Day_of_Week\",\n",
    "        \"Hour_of_Day\"\n",
    "    ]\n",
    "\n",
    "# Define target\n",
    "target_column = \"Accident_Severity\""
   ]
  },
  {
   "cell_type": "code",
   "execution_count": null,
   "metadata": {},
   "outputs": [],
   "source": [
    "train_data, test_data = load_and_split_data()"
   ]
  },
  {
   "cell_type": "code",
   "execution_count": null,
   "metadata": {},
   "outputs": [],
   "source": [
    "# Split train_data into features and target\n",
    "X_train = train_data.drop(columns=[target_column,\n",
    "                                   \"Accident_Index\"])\n",
    "y_train = train_data[target_column]\n",
    "\n",
    "# Split test_data into features and target\n",
    "X_test = test_data.drop(columns=[target_column,\n",
    "                                  \"Accident_Index\"])\n",
    "y_test = test_data[target_column]"
   ]
  },
  {
   "cell_type": "code",
   "execution_count": null,
   "metadata": {},
   "outputs": [],
   "source": [
    "preprocessor = pipe_preprocessing(numerical_features=numerical_features, categorical_features=categorical_features)"
   ]
  },
  {
   "cell_type": "markdown",
   "metadata": {},
   "source": [
    "## GLM"
   ]
  },
  {
   "cell_type": "code",
   "execution_count": null,
   "metadata": {},
   "outputs": [],
   "source": [
    "# Build and evaluate the pipeline\n",
    "glm_pipeline, glm_accuracy = build_glm_pipeline(\n",
    "        train_data=train_data,\n",
    "        test_data=test_data,\n",
    "        target_column=target_column,\n",
    "        preprocessor=preprocessor\n",
    "    )"
   ]
  },
  {
   "cell_type": "code",
   "execution_count": null,
   "metadata": {},
   "outputs": [],
   "source": [
    "print(glm_pipeline)"
   ]
  },
  {
   "cell_type": "code",
   "execution_count": null,
   "metadata": {},
   "outputs": [],
   "source": [
    "best_glm_pipeline, best_params, best_score = tune_glm_pipeline(glm_pipeline, train_data)"
   ]
  },
  {
   "cell_type": "code",
   "execution_count": null,
   "metadata": {},
   "outputs": [],
   "source": [
    "glm_ap = evaluate_model(best_glm_pipeline, test_data=test_data)"
   ]
  },
  {
   "cell_type": "code",
   "execution_count": null,
   "metadata": {},
   "outputs": [],
   "source": [
    "plot_predicted_vs_actual_bar(glm_ap)"
   ]
  },
  {
   "cell_type": "markdown",
   "metadata": {},
   "source": [
    "Based on the confusion matrix and bar plot, our tuned GLM is overestimating the 'Slight' accident prevalence, and underestimating 'Serious' and 'Fatal' accident prevalence. "
   ]
  },
  {
   "cell_type": "code",
   "execution_count": null,
   "metadata": {},
   "outputs": [],
   "source": [
    "feature_analysis(best_glm_pipeline, X_train=X_train, y_train=y_train, top_n=5)"
   ]
  },
  {
   "cell_type": "markdown",
   "metadata": {},
   "source": [
    "## LGBM"
   ]
  },
  {
   "cell_type": "code",
   "execution_count": null,
   "metadata": {},
   "outputs": [],
   "source": [
    "lgbm_pipeline, lgbm_accuracy = build_lgbm_pipeline(\n",
    "        train_data=train_data,\n",
    "        test_data=test_data,\n",
    "        target_column=target_column,\n",
    "        preprocessor=preprocessor\n",
    "    )"
   ]
  },
  {
   "cell_type": "code",
   "execution_count": null,
   "metadata": {},
   "outputs": [],
   "source": [
    "best_lgbm_pipeline, best_params = tune_lgbm_pipeline(lgbm_pipeline, train_data)"
   ]
  },
  {
   "cell_type": "code",
   "execution_count": null,
   "metadata": {},
   "outputs": [],
   "source": [
    "lgbm_ap = evaluate_model(best_lgbm_pipeline, test_data=test_data)"
   ]
  },
  {
   "cell_type": "code",
   "execution_count": null,
   "metadata": {},
   "outputs": [],
   "source": [
    "plot_predicted_vs_actual_bar(lgbm_ap)"
   ]
  },
  {
   "cell_type": "code",
   "execution_count": null,
   "metadata": {},
   "outputs": [],
   "source": [
    "top_feature_names = feature_analysis(best_lgbm_pipeline, X_train=X_train, y_train=y_train, top_n=5)"
   ]
  },
  {
   "cell_type": "markdown",
   "metadata": {},
   "source": [
    "## PDP"
   ]
  },
  {
   "cell_type": "code",
   "execution_count": null,
   "metadata": {},
   "outputs": [],
   "source": [
    "from lightgbm import LGBMClassifier\n",
    "from sklearn.pipeline import Pipeline\n",
    "\n",
    "lgbm_classifier = LGBMClassifier(\n",
    "    objective=\"multiclass\",\n",
    "    random_state=42,\n",
    "    num_leaves=31,\n",
    "    learning_rate=0.01,\n",
    "    min_child_weight=10,\n",
    "    n_estimators=500\n",
    ")\n",
    "\n",
    "lgbm_pdp = Pipeline(\n",
    "        steps=[(\"preprocessor\", preprocessor), (\"classifier\", lgbm_classifier)]\n",
    "    )\n",
    "\n",
    "lgbm_pdp.fit(X_train, y_train)"
   ]
  },
  {
   "cell_type": "code",
   "execution_count": null,
   "metadata": {},
   "outputs": [],
   "source": [
    "import dalex as dx\n",
    "lgbm_pdp_exp = dx.Explainer(lgbm_pdp, X_train, y_train, label=\"Tuned LGBM Pipeline\")\n",
    "\n",
    "pdp_lgbm = lgbm_pdp_exp.model_profile(variables= top_feature_names)\n",
    "pdp_lgbm.plot()\n"
   ]
  }
 ],
 "metadata": {
  "kernelspec": {
   "display_name": "road_traffic_env",
   "language": "python",
   "name": "python3"
  },
  "language_info": {
   "codemirror_mode": {
    "name": "ipython",
    "version": 3
   },
   "file_extension": ".py",
   "mimetype": "text/x-python",
   "name": "python",
   "nbconvert_exporter": "python",
   "pygments_lexer": "ipython3",
   "version": "3.9.21"
  }
 },
 "nbformat": 4,
 "nbformat_minor": 2
}
